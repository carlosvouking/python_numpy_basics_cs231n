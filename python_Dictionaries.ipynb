{
 "cells": [
  {
   "cell_type": "markdown",
   "metadata": {},
   "source": [
    "### **python Container: Dictionaries** (_key, value_)"
   ]
  },
  {
   "cell_type": "markdown",
   "metadata": {},
   "source": [
    "##### * New dictionary: 'my_dict1' #####"
   ]
  },
  {
   "cell_type": "code",
   "execution_count": 61,
   "metadata": {},
   "outputs": [
    {
     "name": "stdout",
     "output_type": "stream",
     "text": [
      "{'network': 'convolutional', 'model': 'resnet'}\n",
      "convolutional resnet\n",
      "number of key-value pairs in my_dict: 4.\n"
     ]
    }
   ],
   "source": [
    "my_dict1 = {'network':'convolutional','model':'resnet'}\n",
    "print(my_dict1)\n",
    "print(my_dict1['network'],   my_dict1['model'])\n",
    "print(f\"number of key-value pairs in my_dict: {len(my_dict)}.\")"
   ]
  },
  {
   "cell_type": "markdown",
   "metadata": {},
   "source": [
    "##### * keys and values in 'my_dict1' #####"
   ]
  },
  {
   "cell_type": "code",
   "execution_count": 62,
   "metadata": {},
   "outputs": [
    {
     "name": "stdout",
     "output_type": "stream",
     "text": [
      "dict_keys(['network', 'model']) dict_values(['convolutional', 'resnet'])\n"
     ]
    }
   ],
   "source": [
    "keys = my_dict1.keys()\n",
    "values = my_dict1.values()\n",
    "print(keys, values)"
   ]
  },
  {
   "cell_type": "markdown",
   "metadata": {},
   "source": [
    "##### * New dictionary: 'my_dict2' #####"
   ]
  },
  {
   "cell_type": "code",
   "execution_count": 63,
   "metadata": {},
   "outputs": [
    {
     "name": "stdout",
     "output_type": "stream",
     "text": [
      "{'model1': 'resnext', 'model2': 'vgg', 'model3': 'inception'}\n",
      "inception\n"
     ]
    }
   ],
   "source": [
    "my_dict2 = dict(zip(['model1', 'model2', 'model3'], ['resnext', 'vgg', 'inception']))\n",
    "print(my_dict2)\n",
    "print(my_dict2.get('model3'))"
   ]
  },
  {
   "cell_type": "markdown",
   "metadata": {},
   "source": [
    "##### * New dictionary: 'my_dict3' #####"
   ]
  },
  {
   "cell_type": "code",
   "execution_count": 64,
   "metadata": {},
   "outputs": [
    {
     "name": "stdout",
     "output_type": "stream",
     "text": [
      "{'arch1': 'cnn', 'arch2': 'rnn', 'arch3': 'recommendation system'}\n",
      "recommendation system\n"
     ]
    }
   ],
   "source": [
    "my_dict3 = dict(arch1='cnn', arch2='rnn', arch3='recommendation system')\n",
    "print(my_dict3)\n",
    "print(my_dict3['arch3'])"
   ]
  },
  {
   "cell_type": "markdown",
   "metadata": {},
   "source": [
    "##### * Check if my_dict has a key named: 'model' #####"
   ]
  },
  {
   "cell_type": "code",
   "execution_count": 65,
   "metadata": {},
   "outputs": [
    {
     "name": "stdout",
     "output_type": "stream",
     "text": [
      "True False\n"
     ]
    }
   ],
   "source": [
    "print('model' in my_dict1, 'convolutional' in my_dict1)"
   ]
  },
  {
   "cell_type": "markdown",
   "metadata": {},
   "source": [
    "##### * Add an entry in my_dict1 #####"
   ]
  },
  {
   "cell_type": "code",
   "execution_count": 66,
   "metadata": {},
   "outputs": [
    {
     "name": "stdout",
     "output_type": "stream",
     "text": [
      "{'network': 'convolutional', 'model': 'resnet', 'language': 'python'}\n",
      "python\n"
     ]
    }
   ],
   "source": [
    "my_dict1['language'] = 'python'\n",
    "print(my_dict1)\n",
    "print(my_dict1['language'])"
   ]
  },
  {
   "cell_type": "markdown",
   "metadata": {},
   "source": [
    "##### * Get the default value of 'language' #####"
   ]
  },
  {
   "cell_type": "code",
   "execution_count": 24,
   "metadata": {},
   "outputs": [
    {
     "name": "stdout",
     "output_type": "stream",
     "text": [
      "python\n"
     ]
    }
   ],
   "source": [
    "print(my_dict.get('language', 'N/A'))"
   ]
  },
  {
   "cell_type": "markdown",
   "metadata": {},
   "source": [
    "##### * Remove 'language' from my_dict #####"
   ]
  },
  {
   "cell_type": "code",
   "execution_count": 67,
   "metadata": {},
   "outputs": [
    {
     "name": "stdout",
     "output_type": "stream",
     "text": [
      "{'network': 'convolutional', 'model': 'resnet', 'language': 'python'}\n",
      "{'network': 'convolutional', 'model': 'resnet'}\n"
     ]
    }
   ],
   "source": [
    "print(my_dict1)\n",
    "del my_dict1['language']\n",
    "print(my_dict1)"
   ]
  },
  {
   "cell_type": "code",
   "execution_count": 68,
   "metadata": {},
   "outputs": [
    {
     "name": "stdout",
     "output_type": "stream",
     "text": [
      "None\n"
     ]
    }
   ],
   "source": [
    "print(my_dict1.get('language'))"
   ]
  },
  {
   "cell_type": "code",
   "execution_count": 69,
   "metadata": {},
   "outputs": [
    {
     "name": "stdout",
     "output_type": "stream",
     "text": [
      "N/A\n"
     ]
    }
   ],
   "source": [
    "print(my_dict1.get('language', 'N/A'))   # output 'N/A' because 'language' has been removed and is not a key anymore"
   ]
  },
  {
   "cell_type": "code",
   "execution_count": null,
   "metadata": {},
   "outputs": [],
   "source": []
  },
  {
   "cell_type": "markdown",
   "metadata": {},
   "source": [
    "#### * Iterating through my_dict ... LOOP ####"
   ]
  },
  {
   "cell_type": "code",
   "execution_count": 70,
   "metadata": {},
   "outputs": [
    {
     "name": "stdout",
     "output_type": "stream",
     "text": [
      "{'resnext34': 34, 'resnext50': 50, 'resnext101': 101, 'vgg': 1000}\n"
     ]
    }
   ],
   "source": [
    "my_dict1 = dict(zip(['resnext34','resnext50','resnext101','vgg'],[34, 50, 101, 1000]))\n",
    "print(my_dict1)"
   ]
  },
  {
   "cell_type": "code",
   "execution_count": 71,
   "metadata": {},
   "outputs": [
    {
     "name": "stdout",
     "output_type": "stream",
     "text": [
      "A resnext34 architecture has 34 layers. \n",
      "A resnext50 architecture has 50 layers. \n",
      "A resnext101 architecture has 101 layers. \n",
      "A vgg architecture has 1000 layers. \n"
     ]
    }
   ],
   "source": [
    "for arch in my_dict1:\n",
    "    layer = my_dict1[arch]\n",
    "    print('A %s has %d layers. ' %(arch, layer))    "
   ]
  },
  {
   "cell_type": "code",
   "execution_count": null,
   "metadata": {},
   "outputs": [],
   "source": []
  }
 ],
 "metadata": {
  "kernelspec": {
   "display_name": "Python 3",
   "language": "python",
   "name": "python3"
  },
  "language_info": {
   "codemirror_mode": {
    "name": "ipython",
    "version": 3
   },
   "file_extension": ".py",
   "mimetype": "text/x-python",
   "name": "python",
   "nbconvert_exporter": "python",
   "pygments_lexer": "ipython3",
   "version": "3.6.6"
  }
 },
 "nbformat": 4,
 "nbformat_minor": 2
}
