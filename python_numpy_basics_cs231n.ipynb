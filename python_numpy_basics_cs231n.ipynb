{
 "cells": [
  {
   "cell_type": "markdown",
   "metadata": {},
   "source": [
    "### **Python Containers** ###"
   ]
  },
  {
   "cell_type": "markdown",
   "metadata": {},
   "source": [
    "#### **_I/- Lists_** ####"
   ]
  },
  {
   "cell_type": "code",
   "execution_count": 160,
   "metadata": {},
   "outputs": [
    {
     "name": "stdout",
     "output_type": "stream",
     "text": [
      "[2, 5, 7, 9, 11, 17] 7\n"
     ]
    }
   ],
   "source": [
    "# List Cration\n",
    "my_list = [2, 5, 7, 9, 11, 17]\n",
    "\n",
    "print(my_list, my_list[2])"
   ]
  },
  {
   "cell_type": "code",
   "execution_count": 161,
   "metadata": {},
   "outputs": [
    {
     "name": "stdout",
     "output_type": "stream",
     "text": [
      "[2, 5, 7, 9, 11, 17] 17 11\n"
     ]
    }
   ],
   "source": [
    "# Use negative indexes return results from the end of the list\n",
    "print(my_list, my_list[-1], my_list[-2])"
   ]
  },
  {
   "cell_type": "code",
   "execution_count": 162,
   "metadata": {},
   "outputs": [
    {
     "name": "stdout",
     "output_type": "stream",
     "text": [
      "[2, 5, 'tensor', 9, 11, 17] tensor\n"
     ]
    }
   ],
   "source": [
    "# Add a string to the list of integers at index 2\n",
    "my_list[2] = 'tensor'\n",
    "print(my_list, my_list[2])"
   ]
  },
  {
   "cell_type": "code",
   "execution_count": 163,
   "metadata": {},
   "outputs": [
    {
     "name": "stdout",
     "output_type": "stream",
     "text": [
      "[2, 5, 'tensor', 9, 11, 17, 'matrix'] matrix\n"
     ]
    }
   ],
   "source": [
    "# Adding another string to the end of the list\n",
    "my_list.append('matrix')\n",
    "print(my_list, my_list[-1])"
   ]
  },
  {
   "cell_type": "code",
   "execution_count": 164,
   "metadata": {},
   "outputs": [
    {
     "name": "stdout",
     "output_type": "stream",
     "text": [
      "[2, 5, 'tensor', 9, 17, 'matrix'] 11\n"
     ]
    }
   ],
   "source": [
    "# Removing an item at a specific position in the list...11 was removed\n",
    "item_4 = my_list.pop(4)\n",
    "print(my_list, item_4)"
   ]
  },
  {
   "cell_type": "code",
   "execution_count": 165,
   "metadata": {},
   "outputs": [
    {
     "name": "stdout",
     "output_type": "stream",
     "text": [
      "last item was: matrix\n",
      "[2, 5, 'tensor', 9, 17]\n"
     ]
    }
   ],
   "source": [
    "# Removing the last item of the list ... no positional index given at pop()\n",
    "last_item = my_list.pop()\n",
    "\n",
    "print('last item was: %s' %last_item)\n",
    "print(my_list)"
   ]
  },
  {
   "cell_type": "code",
   "execution_count": 166,
   "metadata": {},
   "outputs": [
    {
     "name": "stdout",
     "output_type": "stream",
     "text": [
      "[2, 5, 'tensor', 9, 17, 'svm', 12, 'sgdr', 12, 'entropy', 15] 15\n"
     ]
    }
   ],
   "source": [
    "# Extending a list by adding to the end (appending) \n",
    "specific_words = ['svm',12, 'sgdr', 12, 'entropy', 15]\n",
    "my_list.extend(specific_words)\n",
    "print(my_list, my_list[-1])"
   ]
  },
  {
   "cell_type": "code",
   "execution_count": 167,
   "metadata": {},
   "outputs": [],
   "source": [
    "# Removing all items from the list.\n",
    "my_list.clear()     #an equivalent is del my_list[:]"
   ]
  },
  {
   "cell_type": "code",
   "execution_count": 168,
   "metadata": {},
   "outputs": [
    {
     "name": "stdout",
     "output_type": "stream",
     "text": [
      "[]\n"
     ]
    }
   ],
   "source": [
    "print(my_list)"
   ]
  },
  {
   "cell_type": "code",
   "execution_count": 169,
   "metadata": {},
   "outputs": [
    {
     "name": "stdout",
     "output_type": "stream",
     "text": [
      "[2, 5, 12, 'tensor', 9, 17, 'sgdr', 'entropy', 12, 15, 'svm']\n"
     ]
    }
   ],
   "source": [
    "# Once again let's extend the list with a recovery list.\n",
    "recovery = [2, 5, 12, 'tensor', 9, 17, 'sgdr', 'entropy', 12, 15, 'svm']\n",
    "my_list.extend(recovery)\n",
    "print(my_list)"
   ]
  },
  {
   "cell_type": "code",
   "execution_count": 170,
   "metadata": {},
   "outputs": [
    {
     "name": "stdout",
     "output_type": "stream",
     "text": [
      "[2, 5, 12, 'tensor', 9, 'gradient', 17, 'sgdr', 'entropy', 12, 15, 'svm'] gradient\n"
     ]
    }
   ],
   "source": [
    "# Inserting 'gradient' at index 5\n",
    "my_list.insert(5, 'gradient')\n",
    "print(my_list, my_list[5])"
   ]
  },
  {
   "cell_type": "code",
   "execution_count": 171,
   "metadata": {},
   "outputs": [
    {
     "name": "stdout",
     "output_type": "stream",
     "text": [
      "[2, 5, 12, 'tensor', 9, 'gradient', 17, 'sgdr', 'entropy', 12, 15, 'svm', 'stochastic'] stochastic\n"
     ]
    }
   ],
   "source": [
    "# Inserting 'stochastic' at the end of the list ..... idx = len(my_list())\n",
    "my_list.insert(len(my_list), 'stochastic')     # equivalent to my_list.append('staochastic')\n",
    "print(my_list, my_list[-1])"
   ]
  },
  {
   "cell_type": "code",
   "execution_count": 172,
   "metadata": {},
   "outputs": [
    {
     "name": "stdout",
     "output_type": "stream",
     "text": [
      "[2, 5, 'tensor', 9, 'gradient', 17, 'sgdr', 'entropy', 12, 15, 'svm', 'stochastic']\n"
     ]
    }
   ],
   "source": [
    "# Removing the FIRST ITEM (and only that item) with value '12' from the list.\n",
    "my_list.remove(12)\n",
    "print(my_list)"
   ]
  },
  {
   "cell_type": "code",
   "execution_count": 173,
   "metadata": {},
   "outputs": [
    {
     "name": "stdout",
     "output_type": "stream",
     "text": [
      "1\n"
     ]
    }
   ],
   "source": [
    "# How many time(s) does '15' appears in the list ?\n",
    "count_15 = my_list.count(15)\n",
    "print(count_15)"
   ]
  },
  {
   "cell_type": "code",
   "execution_count": 174,
   "metadata": {},
   "outputs": [
    {
     "name": "stdout",
     "output_type": "stream",
     "text": [
      "[2, 5, 'tensor', 9, 'gradient', 17, 'sgdr', 'entropy', 12, 15, 'svm', 'stochastic']\n"
     ]
    },
    {
     "ename": "TypeError",
     "evalue": "'<' not supported between instances of 'str' and 'int'",
     "output_type": "error",
     "traceback": [
      "\u001b[1;31m---------------------------------------------------------------------------\u001b[0m",
      "\u001b[1;31mTypeError\u001b[0m                                 Traceback (most recent call last)",
      "\u001b[1;32m<ipython-input-174-980083ef3c5f>\u001b[0m in \u001b[0;36m<module>\u001b[1;34m()\u001b[0m\n\u001b[0;32m      1\u001b[0m \u001b[1;31m# Sorting elements  in a list.\u001b[0m\u001b[1;33m\u001b[0m\u001b[1;33m\u001b[0m\u001b[0m\n\u001b[0;32m      2\u001b[0m \u001b[0mprint\u001b[0m\u001b[1;33m(\u001b[0m\u001b[0mmy_list\u001b[0m\u001b[1;33m)\u001b[0m\u001b[1;33m\u001b[0m\u001b[0m\n\u001b[1;32m----> 3\u001b[1;33m \u001b[0mmy_list\u001b[0m\u001b[1;33m.\u001b[0m\u001b[0msort\u001b[0m\u001b[1;33m(\u001b[0m\u001b[1;33m)\u001b[0m   \u001b[1;31m# this will output an error; sorting works on elements of same type.\u001b[0m\u001b[1;33m\u001b[0m\u001b[0m\n\u001b[0m\u001b[0;32m      4\u001b[0m \u001b[0mmy_list\u001b[0m\u001b[1;33m\u001b[0m\u001b[0m\n",
      "\u001b[1;31mTypeError\u001b[0m: '<' not supported between instances of 'str' and 'int'"
     ]
    }
   ],
   "source": [
    "# Sorting elements  in a list.\n",
    "print(my_list)\n",
    "my_list.sort()   # this will output an error; sorting works on elements of same type.\n",
    "my_list"
   ]
  },
  {
   "cell_type": "code",
   "execution_count": 175,
   "metadata": {},
   "outputs": [
    {
     "name": "stdout",
     "output_type": "stream",
     "text": [
      "[2, 5, 'tensor', 9, 'gradient', 17, 'sgdr', 'entropy', 12, 15, 'svm', 'stochastic']\n",
      "['stochastic', 'svm', 15, 12, 'entropy', 'sgdr', 17, 'gradient', 9, 'tensor', 5, 2]\n"
     ]
    }
   ],
   "source": [
    "# Reversing elememts in the list\n",
    "print(my_list)\n",
    "my_list.reverse()\n",
    "print(my_list)"
   ]
  },
  {
   "cell_type": "markdown",
   "metadata": {},
   "source": [
    "#### _(a)- Accessing lists of items one at a time ... SLICING_"
   ]
  },
  {
   "cell_type": "code",
   "execution_count": 179,
   "metadata": {},
   "outputs": [
    {
     "name": "stdout",
     "output_type": "stream",
     "text": [
      "[0, 1, 2, 3, 4, 5, 6, 7, 8]\n"
     ]
    }
   ],
   "source": [
    "# 'range()' built-in function to crrate a list of integers.\n",
    "selection = list(range(9))\n",
    "print(selection)"
   ]
  },
  {
   "cell_type": "code",
   "execution_count": 186,
   "metadata": {},
   "outputs": [
    {
     "name": "stdout",
     "output_type": "stream",
     "text": [
      "[2, 3, 4, 5, 6, 7, 8]\n"
     ]
    }
   ],
   "source": [
    "print(selection[2:])   # slice from index 2 till the end."
   ]
  },
  {
   "cell_type": "code",
   "execution_count": 189,
   "metadata": {},
   "outputs": [
    {
     "name": "stdout",
     "output_type": "stream",
     "text": [
      "[0, 1]\n"
     ]
    }
   ],
   "source": [
    "print(selection[:2])   # slice from the begin of the list to index 2"
   ]
  },
  {
   "cell_type": "code",
   "execution_count": 185,
   "metadata": {},
   "outputs": [
    {
     "name": "stdout",
     "output_type": "stream",
     "text": [
      "[2, 3, 4, 5, 6]\n"
     ]
    }
   ],
   "source": [
    "print(selection[2:7])   # indexes from 2 to 7, excluding 7."
   ]
  },
  {
   "cell_type": "code",
   "execution_count": 190,
   "metadata": {},
   "outputs": [
    {
     "name": "stdout",
     "output_type": "stream",
     "text": [
      "[0, 1, 2, 3, 4, 5, 6, 7, 8]\n"
     ]
    }
   ],
   "source": [
    "print(selection[:])  # a portion of the whole list"
   ]
  },
  {
   "cell_type": "code",
   "execution_count": 191,
   "metadata": {},
   "outputs": [
    {
     "name": "stdout",
     "output_type": "stream",
     "text": [
      "[0, 1, 2, 3, 4, 5, 6, 7]\n"
     ]
    }
   ],
   "source": [
    "print(selection[:-1]) "
   ]
  },
  {
   "cell_type": "code",
   "execution_count": 193,
   "metadata": {},
   "outputs": [
    {
     "name": "stdout",
     "output_type": "stream",
     "text": [
      "[10, 11]\n",
      "[0, 1, 10, 11, 4, 5, 6, 7, 8] [10, 11]\n"
     ]
    }
   ],
   "source": [
    "print(selection[2:4])\n",
    "# Assigning a new sublist to a slice \n",
    "selection[2:4]=[10, 11]\n",
    "print(selection, selection[2:4])"
   ]
  },
  {
   "cell_type": "code",
   "execution_count": null,
   "metadata": {},
   "outputs": [],
   "source": []
  },
  {
   "cell_type": "markdown",
   "metadata": {},
   "source": [
    "#### _(b)- Iterating over elements of a list... LOOP_"
   ]
  },
  {
   "cell_type": "code",
   "execution_count": 242,
   "metadata": {},
   "outputs": [],
   "source": [
    "models = ['resnet34', 'resnext50', 'vgg', 'inception']"
   ]
  },
  {
   "cell_type": "code",
   "execution_count": 243,
   "metadata": {},
   "outputs": [
    {
     "name": "stdout",
     "output_type": "stream",
     "text": [
      "resnet34\n",
      "resnext50\n",
      "vgg\n",
      "inception\n"
     ]
    }
   ],
   "source": [
    "for model in models:\n",
    "    print(model)"
   ]
  },
  {
   "cell_type": "code",
   "execution_count": 244,
   "metadata": {},
   "outputs": [
    {
     "name": "stdout",
     "output_type": "stream",
     "text": [
      "* At index: 0 ==> item: resnet34\n",
      "* At index: 1 ==> item: resnext50\n",
      "* At index: 2 ==> item: vgg\n",
      "* At index: 3 ==> item: inception\n"
     ]
    }
   ],
   "source": [
    "for idx, model in enumerate(models):\n",
    "    summary = '* At index: %d ==> item: %s' %(idx, model)\n",
    "    print(summary)    "
   ]
  },
  {
   "cell_type": "code",
   "execution_count": null,
   "metadata": {},
   "outputs": [],
   "source": []
  },
  {
   "cell_type": "markdown",
   "metadata": {},
   "source": [
    "#### _(b)-Make iterations and loops simpler ... List Comprehension_"
   ]
  },
  {
   "cell_type": "code",
   "execution_count": 245,
   "metadata": {},
   "outputs": [],
   "source": [
    "numbers = list(range(10))\n",
    "squares = []"
   ]
  },
  {
   "cell_type": "code",
   "execution_count": 246,
   "metadata": {},
   "outputs": [
    {
     "name": "stdout",
     "output_type": "stream",
     "text": [
      "[0]\n",
      "[0, 1]\n",
      "[0, 1, 4]\n",
      "[0, 1, 4, 9]\n",
      "[0, 1, 4, 9, 16]\n",
      "[0, 1, 4, 9, 16, 25]\n",
      "[0, 1, 4, 9, 16, 25, 36]\n",
      "[0, 1, 4, 9, 16, 25, 36, 49]\n",
      "[0, 1, 4, 9, 16, 25, 36, 49, 64]\n",
      "[0, 1, 4, 9, 16, 25, 36, 49, 64, 81]\n"
     ]
    }
   ],
   "source": [
    "for n in numbers:\n",
    "    squares.append(n ** 2)\n",
    "    print(squares)"
   ]
  },
  {
   "cell_type": "code",
   "execution_count": 247,
   "metadata": {},
   "outputs": [],
   "source": [
    "squares = []"
   ]
  },
  {
   "cell_type": "code",
   "execution_count": 248,
   "metadata": {},
   "outputs": [
    {
     "name": "stdout",
     "output_type": "stream",
     "text": [
      "[0, 1, 4, 9, 16, 25, 36, 49, 64, 81]\n"
     ]
    }
   ],
   "source": [
    "squares = [n ** 2 for n in numbers]  #simpler and more readable. \n",
    "print(squares)"
   ]
  },
  {
   "cell_type": "code",
   "execution_count": 250,
   "metadata": {},
   "outputs": [
    {
     "name": "stdout",
     "output_type": "stream",
     "text": [
      "[0, 4, 16, 36, 64]\n"
     ]
    }
   ],
   "source": [
    "even_squares = [n**2 for n in numbers if n % 2 == 0]\n",
    "print(even_squares)"
   ]
  },
  {
   "cell_type": "code",
   "execution_count": null,
   "metadata": {},
   "outputs": [],
   "source": []
  },
  {
   "cell_type": "markdown",
   "metadata": {},
   "source": [
    "#### **_I/- Dictionnaries_** ####"
   ]
  },
  {
   "cell_type": "code",
   "execution_count": null,
   "metadata": {},
   "outputs": [],
   "source": []
  }
 ],
 "metadata": {
  "kernelspec": {
   "display_name": "Python 3",
   "language": "python",
   "name": "python3"
  },
  "language_info": {
   "codemirror_mode": {
    "name": "ipython",
    "version": 3
   },
   "file_extension": ".py",
   "mimetype": "text/x-python",
   "name": "python",
   "nbconvert_exporter": "python",
   "pygments_lexer": "ipython3",
   "version": "3.6.6"
  }
 },
 "nbformat": 4,
 "nbformat_minor": 2
}
